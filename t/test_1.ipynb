{
 "cells": [
  {
   "cell_type": "code",
   "execution_count": null,
   "metadata": {},
   "outputs": [],
   "source": [
    "import pandas as pd\n",
    "import numpy as np\n",
    "print(\"hola mundo how are you how are youasas\")\n",
    "print(\"aaaa\")"
   ]
  }
 ],
 "metadata": {
  "interpreter": {
   "hash": "839f8d38dbdb6f40b105fb0f1d47cbb9eebe15cb0a8421f70e085f532fa62765"
  },
  "kernelspec": {
   "display_name": "Python 3.7.1 64-bit ('py371': conda)",
   "language": "python",
   "name": "python3"
  },
  "language_info": {
   "name": "python",
   "version": "3.7.1"
  },
  "orig_nbformat": 4
 },
 "nbformat": 4,
 "nbformat_minor": 2
}
